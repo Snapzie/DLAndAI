{
 "cells": [
  {
   "cell_type": "code",
   "execution_count": null,
   "metadata": {},
   "outputs": [],
   "source": [
    "with open('./html2txt.txt') as f:\n",
    "    text = f.read()\n",
    "new_text = text.replace('\\n',' ')\n",
    "with open('./atomText.txt') as f:\n",
    "    f.write(new_text)\n"
   ]
  }
 ],
 "metadata": {
  "language_info": {
   "name": "python"
  }
 },
 "nbformat": 4,
 "nbformat_minor": 2
}
